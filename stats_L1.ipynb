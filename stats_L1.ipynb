{
  "nbformat": 4,
  "nbformat_minor": 0,
  "metadata": {
    "colab": {
      "name": "stats_L1.ipynb",
      "provenance": []
    },
    "kernelspec": {
      "name": "python3",
      "display_name": "Python 3"
    }
  },
  "cells": [
    {
      "cell_type": "markdown",
      "metadata": {
        "id": "4KcvemuAJatd"
      },
      "source": [
        "# Theory\n"
      ]
    },
    {
      "cell_type": "markdown",
      "metadata": {
        "id": "ZoFhZ5rqJf-T"
      },
      "source": [
        "## Practice"
      ]
    },
    {
      "cell_type": "code",
      "metadata": {
        "id": "ywFqIVteG8O6"
      },
      "source": [
        "import numpy as np\n",
        "import pandas as pd\n",
        "from sklearn.metrics import precision_score, recall_score\n",
        "from sklearn.metrics import confusion_matrix, accuracy_score\n",
        "import matplotlib.pyplot as plt\n",
        "import seaborn as sns"
      ],
      "execution_count": 21,
      "outputs": []
    },
    {
      "cell_type": "code",
      "metadata": {
        "id": "SG8rVclEEDMq",
        "outputId": "cae0b17c-b039-4640-f80b-3a79cda729cf",
        "colab": {
          "base_uri": "https://localhost:8080/",
          "height": 52
        }
      },
      "source": [
        "import numpy as np\n",
        "so_lan_tung = 10000\n",
        "tung_dong_xu = np.random.randint(2, size=so_lan_tung)\n",
        "so_lan_0 = (tung_dong_xu == 0).sum()\n",
        "so_lan_1 = (tung_dong_xu == 1).sum()\n",
        "p0 = so_lan_0 / so_lan_tung\n",
        "p1 = so_lan_1 / so_lan_tung\n",
        "print(p0)\n",
        "print(p1)"
      ],
      "execution_count": 1,
      "outputs": [
        {
          "output_type": "stream",
          "text": [
            "0.5098\n",
            "0.4902\n"
          ],
          "name": "stdout"
        }
      ]
    },
    {
      "cell_type": "code",
      "metadata": {
        "id": "JJTeBneBHCsA",
        "outputId": "418bfcf3-689c-483d-cf55-c129671fc4ed",
        "colab": {
          "base_uri": "https://localhost:8080/",
          "height": 52
        }
      },
      "source": [
        "def tung_xu():\n",
        "  so_lan_tung = 10000\n",
        "  tung_dong_xu = np.random.random((so_lan_tung))\n",
        "  \n",
        "  tung_dong_xu[tung_dong_xu >= 0.6] = 1\n",
        "  tung_dong_xu[tung_dong_xu < 0.6] = 0\n",
        "\n",
        "  v, c = np.unique(tung_dong_xu, return_counts=True)\n",
        "  p0 = c[0] / np.sum(c)\n",
        "  p1 = c[1] / np.sum(c)\n",
        "\n",
        "  print(p0)\n",
        "  print(p1)\n",
        "\n",
        "tung_xu()"
      ],
      "execution_count": 18,
      "outputs": [
        {
          "output_type": "stream",
          "text": [
            "0.603\n",
            "0.397\n"
          ],
          "name": "stdout"
        }
      ]
    },
    {
      "cell_type": "code",
      "metadata": {
        "id": "ARxCaW15Xh8U"
      },
      "source": [
        "def bayes_theorem(p_a, p_b_given_a, p_b_given_not_a):\n",
        "  # Calculate P(not A)\n",
        "  p_not_a = 1 - p_a\n",
        "  # Tinh P(B) bang cong thuc xac suat toan phan\n",
        "  p_b = p_b_given_a * p_a + p_b_given_not_a * p_not_a\n",
        "  # Tinh P(A/B) bang cong thuc Bayes\n",
        "  p_a_given_b = (p_b_given_a * p_a) / p_b\n",
        "\n",
        "  return p_a_given_b\n",
        "\n",
        "# P(A)\n",
        "p_a = 0.999\n",
        "# P(B/A)\n",
        "p_b_given_a = 0.01\n",
        "# P(B/not A)\n",
        "p_b_given_not_a = 0.98\n",
        "# Calculate P(A/B)\n",
        "result = bayes_theorem(p_a, p_b_given_a, p_b_given_not_a)\n",
        "# summerize"
      ],
      "execution_count": null,
      "outputs": []
    },
    {
      "cell_type": "code",
      "metadata": {
        "id": "JEkrrnbNgnWF",
        "outputId": "89c31ec4-155d-4fd7-85ef-1c86c885e846",
        "colab": {
          "base_uri": "https://localhost:8080/",
          "height": 139
        }
      },
      "source": [
        "y_true = np.array([1,0,1,0,1,0,1,0,1])\n",
        "y_pred = np.array([0,0,0,0,0,1,1,1,1])\n",
        "\n",
        "print(f'Accuracy: {accuracy_score(y_true, y_pred)}')\n",
        "print(f'Precision: {precision_score(y_true, y_pred)}')\n",
        "print(f'Recall: {recall_score(y_true, y_pred)}')\n",
        "print(f'\\n confussion matrix:\\n {confusion_matrix(y_true, y_pred)}')\n"
      ],
      "execution_count": 20,
      "outputs": [
        {
          "output_type": "stream",
          "text": [
            "Accuracy: 0.4444444444444444\n",
            "Precision: 0.5\n",
            "Recall: 0.4\n",
            "\n",
            " confussion matrix:\n",
            " [[2 2]\n",
            " [3 2]]\n"
          ],
          "name": "stdout"
        }
      ]
    },
    {
      "cell_type": "code",
      "metadata": {
        "id": "DQ21M2HziF7h",
        "outputId": "4d04b922-b520-401f-b824-b6512f20c884",
        "colab": {
          "base_uri": "https://localhost:8080/",
          "height": 301
        }
      },
      "source": [
        "sns.heatmap(confusion_matrix(y_true, y_pred), annot=True, fmt='', cmap='Blues')\n",
        "plt.xlabel('Predicted')\n",
        "plt.ylabel('True')\n"
      ],
      "execution_count": 22,
      "outputs": [
        {
          "output_type": "execute_result",
          "data": {
            "text/plain": [
              "Text(33.0, 0.5, 'True')"
            ]
          },
          "metadata": {
            "tags": []
          },
          "execution_count": 22
        },
        {
          "output_type": "display_data",
          "data": {
            "image/png": "[encoded data removed]",
            "text/plain": [
              "<Figure size 432x288 with 2 Axes>"
            ]
          },
          "metadata": {
            "tags": [],
            "needs_background": "light"
          }
        }
      ]
    },
    {
      "cell_type": "markdown",
      "metadata": {
        "id": "pjLUaqWlqLnc"
      },
      "source": [
        "## Excercise"
      ]
    },
    {
      "cell_type": "code",
      "metadata": {
        "id": "g65PLno8uXKk",
        "outputId": "d3dbb1f7-45f6-4825-8ef9-88d41aeac8f3",
        "colab": {
          "base_uri": "https://localhost:8080/",
          "height": 87
        }
      },
      "source": [
        "########### Excercise 1 ###########\n",
        "no_of_rolls = 5000\n",
        "roll_events = np.random.randint(1, 7, size=so_lan_tung)\n",
        "\n",
        "p4 = roll_events[roll_events == 4]\n",
        "p4 = len(p4) / len(roll_events) \n",
        "print(f'Xac xuat so cham xuat hien la 4: {p4}')\n",
        "\n",
        "p_gt_4 = roll_events[roll_events >= 4]\n",
        "p_gt_4 = len(p_gt_4) / len(roll_events)\n",
        "print(f'Xac xuat so cham xuat hien lon hon hoac bang 4: {p_gt_4}')\n",
        "\n",
        "p6 = roll_events[roll_events == 6]\n",
        "p6 = len(p6) / len(roll_events) \n",
        "print(f'Xac xuat so cham xuat hien la 6: {p6}')\n",
        "p6_given_gt_4 = p6/ p_gt_4\n",
        "print(f'Xac xuat so cham xuat hien la 6 biet rang so cham lon hon 4: {p6_given_gt_4}')\n"
      ],
      "execution_count": 41,
      "outputs": [
        {
          "output_type": "stream",
          "text": [
            "Xac xuat so cham xuat hien la 4: 0.1645\n",
            "Xac xuat so cham xuat hien lon hon hoac bang 4: 0.5054\n",
            "Xac xuat so cham xuat hien la 6: 0.1672\n",
            "Xac xuat so cham xuat hien la 6 biet rang so cham lon hon 4: 0.3308270676691729\n"
          ],
          "name": "stdout"
        }
      ]
    },
    {
      "cell_type": "code",
      "metadata": {
        "id": "GQ8scHflqK7E",
        "outputId": "ae291267-cb0f-44a1-f445-5348f463bcdc",
        "colab": {
          "base_uri": "https://localhost:8080/",
          "height": 69
        }
      },
      "source": [
        "########### Excercise 2 ###########\n",
        "from sklearn import datasets\n",
        "iris=datasets.load_iris()\n",
        "x = iris.data\n",
        "y = iris.target\n",
        "\n",
        "print(f'Number of category: {len(np.unique(y))}')\n",
        "print(f'Number of sample: {len(x)}')\n",
        "print(f'Number of sample_attributes: {x.shape[1]}')\n"
      ],
      "execution_count": 30,
      "outputs": [
        {
          "output_type": "stream",
          "text": [
            "Number of category: 3\n",
            "Number of sample: 150\n",
            "Number of sample_attributes: 4\n"
          ],
          "name": "stdout"
        }
      ]
    },
    {
      "cell_type": "code",
      "metadata": {
        "id": "lT7go0btrDr7"
      },
      "source": [
        "from sklearn.model_selection import train_test_split\n",
        "x_train, x_test, y_train, y_test = train_test_split(x, y, test_size=0.3)"
      ],
      "execution_count": 31,
      "outputs": []
    },
    {
      "cell_type": "code",
      "metadata": {
        "id": "7BnsvFAKsOIb"
      },
      "source": [
        "from sklearn import tree\n",
        "classifier = tree.DecisionTreeClassifier()\n",
        "classifier.fit(x_train, y_train)\n",
        "y_pred = classifier.predict(x_test)"
      ],
      "execution_count": 32,
      "outputs": []
    },
    {
      "cell_type": "code",
      "metadata": {
        "id": "-vDIbvC8uGwP",
        "outputId": "275073b5-af5c-450b-8a04-38890a15eac1",
        "colab": {
          "base_uri": "https://localhost:8080/",
          "height": 35
        }
      },
      "source": [
        "y_test.shape"
      ],
      "execution_count": 35,
      "outputs": [
        {
          "output_type": "execute_result",
          "data": {
            "text/plain": [
              "(45,)"
            ]
          },
          "metadata": {
            "tags": []
          },
          "execution_count": 35
        }
      ]
    },
    {
      "cell_type": "code",
      "metadata": {
        "id": "DtBN3JGRseoT",
        "outputId": "47650d85-a440-4e00-ceab-d817720243bd",
        "colab": {
          "base_uri": "https://localhost:8080/",
          "height": 69
        }
      },
      "source": [
        "precision = precision_score(y_test, y_pred, average='macro')\n",
        "recall = recall_score(y_test, y_pred, average='macro')\n",
        "accuracy = accuracy_score(y_test, y_pred)\n",
        "\n",
        "print(f'Precision: {precision}')\n",
        "print(f'Recall: {recall}')\n",
        "print(f'Accuracy: {accuracy}')\n"
      ],
      "execution_count": 36,
      "outputs": [
        {
          "output_type": "stream",
          "text": [
            "Precision: 0.9277605779153767\n",
            "Recall: 0.9277605779153767\n",
            "Accuracy: 0.9111111111111111\n"
          ],
          "name": "stdout"
        }
      ]
    }
  ]
}